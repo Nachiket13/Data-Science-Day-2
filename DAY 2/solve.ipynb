{
 "cells": [
  {
   "cell_type": "code",
   "execution_count": 1,
   "metadata": {},
   "outputs": [
    {
     "name": "stdout",
     "output_type": "stream",
     "text": [
      "10\n",
      "25\n",
      "11\n",
      "234\n",
      "220\n",
      "546\n",
      "120\n",
      "101\n",
      "77\n",
      "81\n",
      "[10, 234, 220, 546, 120]\n"
     ]
    }
   ],
   "source": [
    "#Que 1: Create an empty list. Accept 10 numbers from the user and append to it the list if it is an even number.\n",
    "m = []\n",
    "for i in range(10):\n",
    "    s=int(input(\"\"))\n",
    "    if (s%2)==0:\n",
    "        m.append(s)\n",
    "print(m)        "
   ]
  },
  {
   "cell_type": "code",
   "execution_count": 3,
   "metadata": {},
   "outputs": [
    {
     "name": "stdout",
     "output_type": "stream",
     "text": [
      "5\n",
      "{1: 1, 2: 4, 3: 9, 4: 16, 5: 25}\n"
     ]
    }
   ],
   "source": [
    "#dictionary\n",
    "n = int (input(\"\"))\n",
    "d = dict()\n",
    "for i in range(1,n+1):\n",
    "    d[i]=i*i\n",
    "print(d)    "
   ]
  },
  {
   "cell_type": "code",
   "execution_count": 10,
   "metadata": {},
   "outputs": [
    {
     "name": "stdout",
     "output_type": "stream",
     "text": [
      "4\n",
      "UP 3\n",
      "DOWN 3\n",
      "LEFT 3\n",
      "RIGHT 3\n",
      "\n",
      "0\n"
     ]
    }
   ],
   "source": [
    "import  math\n",
    "\n",
    "x,y = 0,0\n",
    "while True:\n",
    "    n = input().split()\n",
    "    if not n:\n",
    "        break\n",
    "    if n[0]=='UP':                  \n",
    "        x-=int(n[1])                \n",
    "    if n[0]=='DOWN':\n",
    "        x+=int(n[1])\n",
    "    if n[0]=='LEFT':\n",
    "        y-=int(n[1])\n",
    "    if n[0]=='RIGHT':\n",
    "        y+=int(n[1])\n",
    "                                    \n",
    "distance = round(math.sqrt(x**2 + y**2))  \n",
    "print(distance)"
   ]
  }
 ],
 "metadata": {
  "kernelspec": {
   "display_name": "Python 3",
   "language": "python",
   "name": "python3"
  },
  "language_info": {
   "codemirror_mode": {
    "name": "ipython",
    "version": 3
   },
   "file_extension": ".py",
   "mimetype": "text/x-python",
   "name": "python",
   "nbconvert_exporter": "python",
   "pygments_lexer": "ipython3",
   "version": "3.8.3"
  }
 },
 "nbformat": 4,
 "nbformat_minor": 4
}
